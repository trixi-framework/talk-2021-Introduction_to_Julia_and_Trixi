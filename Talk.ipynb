{
 "cells": [
  {
   "cell_type": "markdown",
   "metadata": {
    "slideshow": {
     "slide_type": "skip"
    }
   },
   "source": [
    "# Introduction to Julia and Trixi, a numerical simulation framework for hyperbolic PDEs\n",
    "\n",
    "[Julia](https://julialang.org) is a modern high-level programming language developed specifically with scientific computing in mind. [Trixi.jl](https://github.com/trixi-framework/Trixi.jl) is a numerical simulation framework for hyperbolic conservation laws written in Julia. A key objective for the framework is to be useful to both scientists and students. Therefore, next to having an extensible design with a fast implementation, Trixi is focused on being easy to use for new or inexperienced users, including the installation and postprocessing procedures.\n",
    "\n",
    "This presentation is a live demonstration of Julia and Trixi. Firstly, we introduce Julia and demonstrate some of its design principles. This introduction is aimed at researchers in numerical analysis with previous programming experience. Next, we show how to use Trixi for setting up and running simulations, how to visualize the results, and how to extend Trixi with new functionality. We demonstrate how key design principles of Julia are used in Trixi and the Julia package ecosystem, e.g. to enable automatic differentiation through a complete simulation involving hyperbolic conservation laws.\n",
    "\n",
    "The presentation is available as a Jupyter notebook at https://github.com/trixi-framework/talk-2021-Introduction_to_Julia_and_Trixi, including information how to set up everything. For more information about Trixi and how to use it, please visit [Trixi on GitHub](https://github.com/trixi-framework/Trixi.jl) or refer to the [official documentation](https://trixi-framework.github.io/Trixi.jl/stable/). \n",
    "\n",
    "This notebook was set up and tested with Julia v1.6.0 but may also work with other (newer) versions.\n",
    "\n",
    "*Note:* If you change a variable in a later cell and then re-execute an earlier cell, the results might change unexpectedly. Thus if in doubt, re-run the entire notebook *in order*. The reason is that all cells in a Jupyter notebooks share a common variable space.\n",
    "\n",
    "*Note:* This notebook is tested using Chromium. Most parts should also work for other browsers such as Firefox, but the videos used in the last demonstrations might not be displayed correctly.\n",
    "\n",
    "This material is distributed by Hendrik Ranocha under the MIT license. It is inspired by and partially derived from the talks\n",
    "- [Stefan Karpinski (2019), The unreasonable effectiveness of multiple dispatch](https://www.youtube.com/watch?v=kc9HwsxE1OY)\n",
    "- [Robin Deits (2020), Intro to Julia Programming Language with Detroit Tech Watch](https://www.youtube.com/watch?v=qLO-yaUkLKE) \n",
    "- [Michael Schlottke-Lakemper (2021), Julia for adaptive high-order multi-physics simulations](https://github.com/trixi-framework/talk-2021-julia-adaptive-multi-physics-simulations)"
   ]
  },
  {
   "cell_type": "code",
   "execution_count": null,
   "metadata": {
    "slideshow": {
     "slide_type": "skip"
    }
   },
   "outputs": [],
   "source": [
    "# Install all dependencies used in this talk\n",
    "using Pkg\n",
    "Pkg.activate(\".\")\n",
    "Pkg.instantiate()"
   ]
  },
  {
   "cell_type": "code",
   "execution_count": null,
   "metadata": {
    "slideshow": {
     "slide_type": "skip"
    }
   },
   "outputs": [],
   "source": [
    "ENV[\"COLUMNS\"] = 100 # display width"
   ]
  },
  {
   "cell_type": "code",
   "execution_count": null,
   "metadata": {
    "slideshow": {
     "slide_type": "skip"
    }
   },
   "outputs": [],
   "source": [
    "# Remove the margins when displayed as Jupyter notebook\n",
    "# display(HTML(\"<style>.container { width:100% !important; }</style>\"))"
   ]
  },
  {
   "cell_type": "code",
   "execution_count": null,
   "metadata": {
    "slideshow": {
     "slide_type": "skip"
    }
   },
   "outputs": [],
   "source": [
    "# Display mp4 videos used in the demos\n",
    "using Base64\n",
    "\n",
    "function display_mp4(filename; relative_width=100, loop=true)\n",
    "    loop_statement = loop ? \" loop\" : \"\"\n",
    "    display(\"text/html\", string(\n",
    "    \"\"\"\n",
    "        <video autoplay controls width=\"$(relative_width)%\"$(loop_statement)>\n",
    "            <source src=\"data:video/x-m4v;base64,\"\"\",\n",
    "            base64encode(open(read,filename)),\n",
    "        \"\"\"\" type=\"video/mp4\">\n",
    "        </video>\n",
    "    \"\"\"))\n",
    "end"
   ]
  },
  {
   "cell_type": "markdown",
   "metadata": {
    "slideshow": {
     "slide_type": "slide"
    }
   },
   "source": [
    "<img src=\"media/titlepage.png\" width=\"100%\">\n",
    "\n",
    "<!-- \n",
    "# Introduction to Julia and Trixi, a numerical simulation framework for hyperbolic PDEs\n",
    "\n",
    "## Hendrik Ranocha \n",
    " -->\n",
    " \n",
    "- [ranocha.de](https://ranocha.de)\n",
    "- Follow along at https://github.com/trixi-framework/talk-2021-Introduction_to_Julia_and_Trixi\n",
    "- Launch MyBinder at https://tinyurl.com/fb2fw3hr"
   ]
  },
  {
   "cell_type": "markdown",
   "metadata": {
    "slideshow": {
     "slide_type": "slide"
    }
   },
   "source": [
    "# Overview\n",
    "\n",
    "- [Introduction to Julia](#Introduction-to-Julia)\n",
    "  - [Julia is fast](#Julia-is-fast)\n",
    "  - [What's hard to do in Julia?](#What's-hard-to-do-in-Julia?)\n",
    "- [Solving hyperbolic PDEs with Trixi](#Solving-hyperbolic-PDEs-with-Trixi)\n",
    "  - [Mixing an elixir: Creating a Trixi simulation from scratch](#Mixing-an-elixir:-Creating-a-Trixi-simulation-from-scratch)\n",
    "  - [Advanced usage](#Advanced-usage)"
   ]
  },
  {
   "cell_type": "markdown",
   "metadata": {
    "slideshow": {
     "slide_type": "slide"
    }
   },
   "source": [
    "# Introduction to Julia\n",
    "\n",
    "- [julialang.org](https://julialang.org)\n",
    "- Julia is a high-level language like Python/Matlab with the performance of a fast language like C/C++/Fortran\n",
    "- Julia is designed for scientific computing...\n",
    "  - N-dimensional arrays\n",
    "  - Reproducibility\n",
    "- ...and valuable for general programming\n",
    "  - Growing ecosystem of packages\n",
    "  - Rich type system\n",
    "- Encourages good software development practices"
   ]
  },
  {
   "cell_type": "markdown",
   "metadata": {
    "slideshow": {
     "slide_type": "subslide"
    }
   },
   "source": [
    "## Julia at a glance\n",
    "\n",
    "- First public release in 2012, version 1.0 released in 2018\n",
    "- Free\n",
    "  - Julia itself is MIT licensed\n",
    "  - It bundles some GPLed libraries (which can be disabled if desired)\n",
    "- Built-in JIT compiler transforms Julia code to native assembly at run time\n",
    "  - Uses LLVM under the hood\n",
    "- Garbage collected\n",
    "- Dynamically typed\n",
    "- Organized via multiple dispatch"
   ]
  },
  {
   "cell_type": "markdown",
   "metadata": {
    "slideshow": {
     "slide_type": "slide"
    }
   },
   "source": [
    "## A brief tour of Julia\n",
    "\n",
    "### The basics"
   ]
  },
  {
   "cell_type": "code",
   "execution_count": null,
   "metadata": {
    "slideshow": {
     "slide_type": "fragment"
    }
   },
   "outputs": [],
   "source": [
    "# Arithmetic\n",
    "1 + 2"
   ]
  },
  {
   "cell_type": "code",
   "execution_count": null,
   "metadata": {
    "slideshow": {
     "slide_type": "fragment"
    }
   },
   "outputs": [],
   "source": [
    "# Strings\n",
    "println(\"Hello world\")"
   ]
  },
  {
   "cell_type": "code",
   "execution_count": null,
   "metadata": {
    "slideshow": {
     "slide_type": "fragment"
    }
   },
   "outputs": [],
   "source": [
    "# Arrays\n",
    "x = [1, 2, 3]\n",
    "sum(x)"
   ]
  },
  {
   "cell_type": "markdown",
   "metadata": {
    "slideshow": {
     "slide_type": "subslide"
    }
   },
   "source": [
    "### Unicode"
   ]
  },
  {
   "cell_type": "code",
   "execution_count": null,
   "metadata": {
    "slideshow": {
     "slide_type": "fragment"
    }
   },
   "outputs": [],
   "source": [
    "β = π / 4\n",
    "tan(β) ≈ sin(β) / cos(β)"
   ]
  },
  {
   "cell_type": "code",
   "execution_count": null,
   "metadata": {
    "slideshow": {
     "slide_type": "fragment"
    }
   },
   "outputs": [],
   "source": [
    "using LinearAlgebra, Plots, LaTeXStrings\n",
    "n = 1_000\n",
    "λ = eigvals(randn(n, n))\n",
    "scatter(real(λ), imag(λ), aspect_ratio=:equal, legend=nothing,\n",
    "        xguide=L\"\\operatorname{Re} \\lambda\", yguide=L\"\\operatorname{Im} \\lambda\")"
   ]
  },
  {
   "cell_type": "code",
   "execution_count": null,
   "metadata": {
    "slideshow": {
     "slide_type": "skip"
    }
   },
   "outputs": [],
   "source": [
    "# to free some memory on mybinder.org\n",
    "λ = nothing\n",
    "GC.gc()"
   ]
  },
  {
   "cell_type": "markdown",
   "metadata": {
    "slideshow": {
     "slide_type": "subslide"
    }
   },
   "source": [
    "### Functions"
   ]
  },
  {
   "cell_type": "code",
   "execution_count": null,
   "metadata": {},
   "outputs": [],
   "source": [
    "function say_hello(to_whom)\n",
    "    println(\"Hello \", to_whom)\n",
    "end"
   ]
  },
  {
   "cell_type": "code",
   "execution_count": null,
   "metadata": {
    "slideshow": {
     "slide_type": "fragment"
    }
   },
   "outputs": [],
   "source": [
    "say_hello(\"world\")"
   ]
  },
  {
   "cell_type": "markdown",
   "metadata": {
    "slideshow": {
     "slide_type": "fragment"
    }
   },
   "source": [
    "Functions are generic, so you can pass everything that works (duck typing)"
   ]
  },
  {
   "cell_type": "code",
   "execution_count": null,
   "metadata": {},
   "outputs": [],
   "source": [
    "say_hello([1, 2, 3])"
   ]
  },
  {
   "cell_type": "markdown",
   "metadata": {
    "slideshow": {
     "slide_type": "slide"
    }
   },
   "source": [
    "### Types\n",
    "\n",
    "Everything in Julia has a type"
   ]
  },
  {
   "cell_type": "code",
   "execution_count": null,
   "metadata": {
    "slideshow": {
     "slide_type": "fragment"
    }
   },
   "outputs": [],
   "source": [
    "typeof(1)"
   ]
  },
  {
   "cell_type": "code",
   "execution_count": null,
   "metadata": {
    "slideshow": {
     "slide_type": "fragment"
    }
   },
   "outputs": [],
   "source": [
    "typeof(1.0)"
   ]
  },
  {
   "cell_type": "code",
   "execution_count": null,
   "metadata": {
    "slideshow": {
     "slide_type": "fragment"
    }
   },
   "outputs": [],
   "source": [
    "typeof(π)"
   ]
  },
  {
   "cell_type": "code",
   "execution_count": null,
   "metadata": {
    "slideshow": {
     "slide_type": "fragment"
    }
   },
   "outputs": [],
   "source": [
    "typeof([1, 2, 3])"
   ]
  },
  {
   "cell_type": "markdown",
   "metadata": {
    "slideshow": {
     "slide_type": "subslide"
    }
   },
   "source": [
    "You can create your own types easily"
   ]
  },
  {
   "cell_type": "code",
   "execution_count": null,
   "metadata": {},
   "outputs": [],
   "source": [
    "struct Person\n",
    "    name::String\n",
    "end\n",
    "\n",
    "alice = Person(\"Alice\")"
   ]
  },
  {
   "cell_type": "markdown",
   "metadata": {
    "slideshow": {
     "slide_type": "fragment"
    }
   },
   "source": [
    "User-defined types are as efficient as anything built-in"
   ]
  },
  {
   "cell_type": "code",
   "execution_count": null,
   "metadata": {},
   "outputs": [],
   "source": [
    "sizeof(Person) == sizeof(Ptr{String})"
   ]
  },
  {
   "cell_type": "markdown",
   "metadata": {
    "slideshow": {
     "slide_type": "slide"
    }
   },
   "source": [
    "### Multiple dispatch\n",
    "\n",
    "Julia does not use classes to to organize nouns (types) and verbs (functions). Instead, multiple dispatch is a central design decision. Thus, the compiler chooses an appropriate method of a given function based on the types of all arguments (not their values!).\n",
    "\n",
    "For more information, see [Stefan Karpinski's talk at JuliaCon (2019)](https://www.youtube.com/watch?v=kc9HwsxE1OY)."
   ]
  },
  {
   "cell_type": "code",
   "execution_count": null,
   "metadata": {
    "slideshow": {
     "slide_type": "subslide"
    }
   },
   "outputs": [],
   "source": [
    "greet(x, y) = println(x, \" greets \", y)"
   ]
  },
  {
   "cell_type": "code",
   "execution_count": null,
   "metadata": {},
   "outputs": [],
   "source": [
    "alice = Person(\"Alice\")\n",
    "bob = Person(\"Bob\")\n",
    "\n",
    "greet(alice, bob)"
   ]
  },
  {
   "cell_type": "markdown",
   "metadata": {
    "slideshow": {
     "slide_type": "fragment"
    }
   },
   "source": [
    "Currently there is only one greet() function, and it will work on `x` and `y` of any type:"
   ]
  },
  {
   "cell_type": "code",
   "execution_count": null,
   "metadata": {},
   "outputs": [],
   "source": [
    "greet(π, \"Münster\")"
   ]
  },
  {
   "cell_type": "markdown",
   "metadata": {
    "slideshow": {
     "slide_type": "subslide"
    }
   },
   "source": [
    "We can use abstract types to organize the behavior of related types:"
   ]
  },
  {
   "cell_type": "code",
   "execution_count": null,
   "metadata": {},
   "outputs": [],
   "source": [
    "abstract type Animal end\n",
    "\n",
    "struct Cat <: Animal\n",
    "    name::String\n",
    "end"
   ]
  },
  {
   "cell_type": "markdown",
   "metadata": {
    "slideshow": {
     "slide_type": "fragment"
    }
   },
   "source": [
    "We've already defined `greet(x, y)` for any `x` and `y`, but we can add another definition for a more specific set of input types.\n",
    "\n",
    "We can be as specific or as general as we like with the argument types:"
   ]
  },
  {
   "cell_type": "code",
   "execution_count": null,
   "metadata": {},
   "outputs": [],
   "source": [
    "greet(x::Person, y::Animal) = println(x, \" pats \", y)"
   ]
  },
  {
   "cell_type": "code",
   "execution_count": null,
   "metadata": {
    "slideshow": {
     "slide_type": "fragment"
    }
   },
   "outputs": [],
   "source": [
    "greet(x::Cat, y) = println(x, \" meows at \", y)"
   ]
  },
  {
   "cell_type": "markdown",
   "metadata": {
    "slideshow": {
     "slide_type": "subslide"
    }
   },
   "source": [
    "Julia will always pick the *most specific* method that matches the provided function arguments."
   ]
  },
  {
   "cell_type": "code",
   "execution_count": null,
   "metadata": {},
   "outputs": [],
   "source": [
    "fluffy = Cat(\"Fluffy\")\n",
    "\n",
    "greet(alice, fluffy)"
   ]
  },
  {
   "cell_type": "code",
   "execution_count": null,
   "metadata": {
    "slideshow": {
     "slide_type": "fragment"
    }
   },
   "outputs": [],
   "source": [
    "greet(fluffy, alice)"
   ]
  },
  {
   "cell_type": "code",
   "execution_count": null,
   "metadata": {
    "slideshow": {
     "slide_type": "subslide"
    }
   },
   "outputs": [],
   "source": [
    "struct Dog <: Animal\n",
    "    name::String\n",
    "end\n",
    "\n",
    "greet(x::Dog, y) = println(x, \" barks at \", y)\n",
    "\n",
    "greet(x::Dog, y::Person) = println(\"$x licks $y's face\")\n",
    "\n",
    "greet(x::Dog, y::Dog) = println(\"$x sniffs $y's butt\")"
   ]
  },
  {
   "cell_type": "code",
   "execution_count": null,
   "metadata": {
    "slideshow": {
     "slide_type": "fragment"
    }
   },
   "outputs": [],
   "source": [
    "fido = Dog(\"Fido\")\n",
    "rex = Dog(\"Rex\")\n",
    "\n",
    "greet(alice, fido)"
   ]
  },
  {
   "cell_type": "code",
   "execution_count": null,
   "metadata": {
    "slideshow": {
     "slide_type": "fragment"
    }
   },
   "outputs": [],
   "source": [
    "greet(fido, fluffy)"
   ]
  },
  {
   "cell_type": "code",
   "execution_count": null,
   "metadata": {
    "slideshow": {
     "slide_type": "fragment"
    }
   },
   "outputs": [],
   "source": [
    "greet(fido, bob)"
   ]
  },
  {
   "cell_type": "code",
   "execution_count": null,
   "metadata": {
    "slideshow": {
     "slide_type": "fragment"
    }
   },
   "outputs": [],
   "source": [
    "greet(fido, rex)"
   ]
  },
  {
   "cell_type": "markdown",
   "metadata": {
    "slideshow": {
     "slide_type": "subslide"
    }
   },
   "source": [
    "If you want to know which `greet` method will be called for a given set of arguments, you can use `@which` to check:"
   ]
  },
  {
   "cell_type": "code",
   "execution_count": null,
   "metadata": {},
   "outputs": [],
   "source": [
    "@which greet(alice, fido)"
   ]
  },
  {
   "cell_type": "markdown",
   "metadata": {
    "slideshow": {
     "slide_type": "fragment"
    }
   },
   "source": [
    "You can list all of the methods of a given function with `methods`:"
   ]
  },
  {
   "cell_type": "code",
   "execution_count": null,
   "metadata": {},
   "outputs": [],
   "source": [
    "methods(greet)"
   ]
  },
  {
   "cell_type": "markdown",
   "metadata": {
    "slideshow": {
     "slide_type": "slide"
    }
   },
   "source": [
    "## Modules\n",
    "\n",
    "Modules in Julia are used to organize code into namespaces."
   ]
  },
  {
   "cell_type": "code",
   "execution_count": null,
   "metadata": {},
   "outputs": [],
   "source": [
    "module MyUsefulModule\n",
    "\n",
    "export hello\n",
    "\n",
    "hello()   = println(\"Hello world\")\n",
    "goodbye() = println(\"Goodbye world\")\n",
    "\n",
    "end\n",
    "\n",
    "MyUsefulModule.hello()"
   ]
  },
  {
   "cell_type": "markdown",
   "metadata": {
    "slideshow": {
     "slide_type": "fragment"
    }
   },
   "source": [
    "The `using` command brings any `export`ed symbols from a module into the current namespace:"
   ]
  },
  {
   "cell_type": "code",
   "execution_count": null,
   "metadata": {},
   "outputs": [],
   "source": [
    "using .MyUsefulModule\n",
    "hello()"
   ]
  },
  {
   "cell_type": "markdown",
   "metadata": {
    "slideshow": {
     "slide_type": "subslide"
    }
   },
   "source": [
    "## Using packages\n",
    "\n",
    "Julia has a built-in package manager called `Pkg`. It handles installing packages and managing all your package environments. "
   ]
  },
  {
   "cell_type": "markdown",
   "metadata": {
    "slideshow": {
     "slide_type": "fragment"
    }
   },
   "source": [
    "A package *environment* represents a single set of installed packages. Let's activate the environment for this talk:"
   ]
  },
  {
   "cell_type": "code",
   "execution_count": null,
   "metadata": {},
   "outputs": [],
   "source": [
    "using Pkg\n",
    "Pkg.activate(\".\")\n",
    "Pkg.instantiate()"
   ]
  },
  {
   "cell_type": "markdown",
   "metadata": {},
   "source": [
    "(this is similar to `source venv/bin/activate` in a Python virtual environment)"
   ]
  },
  {
   "cell_type": "markdown",
   "metadata": {
    "slideshow": {
     "slide_type": "subslide"
    }
   },
   "source": [
    "We can install a package in our current environment. This will only affect that environment, so we can safely do this without breaking any other Julia projects we might be working on:"
   ]
  },
  {
   "cell_type": "code",
   "execution_count": null,
   "metadata": {},
   "outputs": [],
   "source": [
    "Pkg.add(\"BenchmarkTools\")"
   ]
  },
  {
   "cell_type": "markdown",
   "metadata": {
    "slideshow": {
     "slide_type": "subslide"
    }
   },
   "source": [
    "The `Project.toml` file gives a concise description of the packages we've added to this environment:"
   ]
  },
  {
   "cell_type": "code",
   "execution_count": null,
   "metadata": {},
   "outputs": [],
   "source": [
    "run(`cat Project.toml`)"
   ]
  },
  {
   "cell_type": "markdown",
   "metadata": {
    "slideshow": {
     "slide_type": "subslide"
    }
   },
   "source": [
    "The package manager also generates a complete manifest of every package that is installed, including all the transitive dependencies and their versions. You can use this to reproduce a given package environment exactly:"
   ]
  },
  {
   "cell_type": "code",
   "execution_count": null,
   "metadata": {},
   "outputs": [],
   "source": [
    "run(`head Manifest.toml`)"
   ]
  },
  {
   "cell_type": "markdown",
   "metadata": {
    "slideshow": {
     "slide_type": "slide"
    }
   },
   "source": [
    "# Julia is fast\n",
    "\n",
    "* I claimed at the beginning of this talk that Julia has performance on par with C. Let's prove it!\n",
    "* To show this, I'll implement the basic `sum` function in Julia, C, and Python so we can compare them:"
   ]
  },
  {
   "cell_type": "markdown",
   "metadata": {
    "slideshow": {
     "slide_type": "subslide"
    }
   },
   "source": [
    "Let's start with Julia:"
   ]
  },
  {
   "cell_type": "code",
   "execution_count": null,
   "metadata": {
    "slideshow": {
     "slide_type": "-"
    }
   },
   "outputs": [],
   "source": [
    "\"\"\"\n",
    "    my_sum(x)\n",
    "\n",
    "Naive implementation of sum. Works for any iterable `x` with any element type.\n",
    "\"\"\"\n",
    "function my_sum(x)\n",
    "    result = zero(eltype(x))\n",
    "    for element in x\n",
    "        result += element\n",
    "    end\n",
    "    return result\n",
    "end"
   ]
  },
  {
   "cell_type": "markdown",
   "metadata": {
    "slideshow": {
     "slide_type": "fragment"
    }
   },
   "source": [
    "And let's create some data to test with:"
   ]
  },
  {
   "cell_type": "code",
   "execution_count": null,
   "metadata": {},
   "outputs": [],
   "source": [
    "data = randn(Float64, 10^7);"
   ]
  },
  {
   "cell_type": "markdown",
   "metadata": {
    "slideshow": {
     "slide_type": "subslide"
    }
   },
   "source": [
    "To measure the performance of `my_sum`, we'll use the [BenchmarkTools](https://github.com/JuliaCI/BenchmarkTools.jl) package. "
   ]
  },
  {
   "cell_type": "code",
   "execution_count": null,
   "metadata": {},
   "outputs": [],
   "source": [
    "using BenchmarkTools"
   ]
  },
  {
   "cell_type": "code",
   "execution_count": null,
   "metadata": {
    "slideshow": {
     "slide_type": "fragment"
    }
   },
   "outputs": [],
   "source": [
    "@benchmark my_sum($data)"
   ]
  },
  {
   "cell_type": "markdown",
   "metadata": {
    "slideshow": {
     "slide_type": "fragment"
    }
   },
   "source": [
    "In this case, we only care about the minimum time. The `@btime` macro is a shorthand to print just that minimum time:"
   ]
  },
  {
   "cell_type": "code",
   "execution_count": null,
   "metadata": {},
   "outputs": [],
   "source": [
    "@btime my_sum($data)"
   ]
  },
  {
   "cell_type": "markdown",
   "metadata": {
    "slideshow": {
     "slide_type": "subslide"
    }
   },
   "source": [
    "Let's compare this with C. It's easy to call functions from C shared libraries in Julia:"
   ]
  },
  {
   "cell_type": "code",
   "execution_count": null,
   "metadata": {},
   "outputs": [],
   "source": [
    "\"\"\"\n",
    "Call the `strcmp` function from `libc.so.6`\n",
    "\"\"\"\n",
    "function c_compare(x::String, y::String)\n",
    "    # We have to tell the compiler that this C function returns an `int` and \n",
    "    # expects two `char *` inputs. The `Cint` and `Cstring` types are convenient\n",
    "    # shorthands for those:\n",
    "    ccall((:strcmp, \"libc.so.6\"), Cint, (Cstring, Cstring), x, y)\n",
    "end"
   ]
  },
  {
   "cell_type": "code",
   "execution_count": null,
   "metadata": {
    "slideshow": {
     "slide_type": "fragment"
    }
   },
   "outputs": [],
   "source": [
    "c_compare(\"hello\", \"hello\")"
   ]
  },
  {
   "cell_type": "markdown",
   "metadata": {
    "slideshow": {
     "slide_type": "fragment"
    }
   },
   "source": [
    "Calling C functions has very little overhead:"
   ]
  },
  {
   "cell_type": "code",
   "execution_count": null,
   "metadata": {},
   "outputs": [],
   "source": [
    "@btime c_compare($(\"hello\"), $(\"hello\"))"
   ]
  },
  {
   "cell_type": "markdown",
   "metadata": {
    "slideshow": {
     "slide_type": "subslide"
    }
   },
   "source": [
    "Let's create a C implementation of `my_sum`. We can do that without leaving Julia by piping some code directly to GCC:"
   ]
  },
  {
   "cell_type": "code",
   "execution_count": null,
   "metadata": {},
   "outputs": [],
   "source": [
    "C_code = \"\"\"\n",
    "\n",
    "#include <stddef.h>  // For `size_t`\n",
    "\n",
    "// Note: our Julia code works for any type, but the C implementation \n",
    "// is only for `double`.\n",
    "\n",
    "double c_sum(size_t n, double* x) {\n",
    "    double s = 0.0;\n",
    "    size_t i;\n",
    "    for (i = 0; i < n; ++i) {\n",
    "        s += x[i];\n",
    "    }\n",
    "    return s;\n",
    "}\n",
    "\n",
    "\"\"\";"
   ]
  },
  {
   "cell_type": "markdown",
   "metadata": {
    "slideshow": {
     "slide_type": "fragment"
    }
   },
   "source": [
    "Now let's generate a name for our shared library:"
   ]
  },
  {
   "cell_type": "code",
   "execution_count": null,
   "metadata": {},
   "outputs": [],
   "source": [
    "# dlext gives the correct file extension for a shared library on this platform\n",
    "using Libdl: dlext\n",
    "Clib = tempname() * \".\" * dlext"
   ]
  },
  {
   "cell_type": "markdown",
   "metadata": {
    "slideshow": {
     "slide_type": "subslide"
    }
   },
   "source": [
    "To send the code to GCC, we can use `open()` on a command to write directly to the `stdin` of that command as if it were any other file- or buffer-like object:"
   ]
  },
  {
   "cell_type": "code",
   "execution_count": null,
   "metadata": {},
   "outputs": [],
   "source": [
    "open(`gcc -fPIC -O3 -march=native -mtune=native -xc -shared -o $Clib -`, \"w\") do cmd\n",
    "    print(cmd, C_code) \n",
    "end"
   ]
  },
  {
   "cell_type": "markdown",
   "metadata": {
    "slideshow": {
     "slide_type": "fragment"
    }
   },
   "source": [
    "Now we can define a Julia function that calls the C function we just compiled:"
   ]
  },
  {
   "cell_type": "code",
   "execution_count": null,
   "metadata": {},
   "outputs": [],
   "source": [
    "# The return type and argument types must match the signature we declared above:\n",
    "# \n",
    "#   double c_sum(size_t n, double* x) \n",
    "# \n",
    "c_sum(x::Array{Float64}) = @ccall Clib.c_sum(length(x)::Csize_t, x::Ptr{Cdouble})::Cdouble"
   ]
  },
  {
   "cell_type": "markdown",
   "metadata": {
    "slideshow": {
     "slide_type": "subslide"
    }
   },
   "source": [
    "Now let's measure the performance of the pure C function:"
   ]
  },
  {
   "cell_type": "code",
   "execution_count": null,
   "metadata": {},
   "outputs": [],
   "source": [
    "@btime c_sum($data)"
   ]
  },
  {
   "cell_type": "markdown",
   "metadata": {
    "slideshow": {
     "slide_type": "subslide"
    }
   },
   "source": [
    "Let's plot the result using the [Plots](https://github.com/JuliaPlots/Plots.jl) package."
   ]
  },
  {
   "cell_type": "code",
   "execution_count": null,
   "metadata": {},
   "outputs": [],
   "source": [
    "using Plots"
   ]
  },
  {
   "cell_type": "code",
   "execution_count": null,
   "metadata": {
    "slideshow": {
     "slide_type": "fragment"
    }
   },
   "outputs": [],
   "source": [
    "results = Dict(\n",
    "    \"my_sum (Julia)\" => 9.2,\n",
    "    \"c_sum (C)\" => 9.1\n",
    ")\n",
    "\n",
    "xlabel=\"function\"; ylabel=\"time (ms, shorter is better)\"; legend=nothing;\n",
    "bar(results; xlabel, ylabel, legend)"
   ]
  },
  {
   "cell_type": "markdown",
   "metadata": {
    "slideshow": {
     "slide_type": "subslide"
    }
   },
   "source": [
    "Our naive Julia code is just as fast as our naive C code! \n",
    "\n",
    "Is that as fast as we can go? What about Julia's built-in `sum()` function:"
   ]
  },
  {
   "cell_type": "code",
   "execution_count": null,
   "metadata": {
    "slideshow": {
     "slide_type": "fragment"
    }
   },
   "outputs": [],
   "source": [
    "@btime sum($data)"
   ]
  },
  {
   "cell_type": "code",
   "execution_count": null,
   "metadata": {
    "slideshow": {
     "slide_type": "fragment"
    }
   },
   "outputs": [],
   "source": [
    "results[\"sum (Julia)\"] = 3.4\n",
    "\n",
    "bar(results; xlabel, ylabel, legend)"
   ]
  },
  {
   "cell_type": "markdown",
   "metadata": {
    "slideshow": {
     "slide_type": "subslide"
    }
   },
   "source": [
    "What's going on? Is the `sum()` function using some built-in behavior we don't have access to?"
   ]
  },
  {
   "cell_type": "markdown",
   "metadata": {
    "slideshow": {
     "slide_type": "fragment"
    }
   },
   "source": [
    "Nope - we can achieve that result easily with a few modifications:"
   ]
  },
  {
   "cell_type": "code",
   "execution_count": null,
   "metadata": {},
   "outputs": [],
   "source": [
    "function my_fast_sum(x)\n",
    "    result = zero(eltype(x))\n",
    "\n",
    "    # `@simd` enables additional vector operations by indicating that it is OK to potentially\n",
    "    # evaluate the loop out-of-order. \n",
    "    @simd for element in x\n",
    "        result += element\n",
    "    end\n",
    "    result\n",
    "end"
   ]
  },
  {
   "cell_type": "code",
   "execution_count": null,
   "metadata": {
    "slideshow": {
     "slide_type": "subslide"
    }
   },
   "outputs": [],
   "source": [
    "@btime my_fast_sum($data)"
   ]
  },
  {
   "cell_type": "code",
   "execution_count": null,
   "metadata": {},
   "outputs": [],
   "source": [
    "results[\"my_fast_sum (Julia)\"] = 3.4\n",
    "\n",
    "bar(results; xlabel, ylabel, legend)"
   ]
  },
  {
   "cell_type": "markdown",
   "metadata": {
    "slideshow": {
     "slide_type": "subslide"
    }
   },
   "source": [
    "With some pretty simple changes, we were able to create a pure-Julia function which is twice as fast as our naive C function while still being clear and completely generic:"
   ]
  },
  {
   "cell_type": "code",
   "execution_count": null,
   "metadata": {},
   "outputs": [],
   "source": [
    "my_fast_sum([1, 2.5, π])"
   ]
  },
  {
   "cell_type": "markdown",
   "metadata": {
    "slideshow": {
     "slide_type": "subslide"
    }
   },
   "source": [
    "Just for reference, let's compare with Python. It's easy to call Python code from Julia too - we just need the [PyCall](https://github.com/JuliaPy/PyCall.jl) package:"
   ]
  },
  {
   "cell_type": "code",
   "execution_count": null,
   "metadata": {},
   "outputs": [],
   "source": [
    "using PyCall"
   ]
  },
  {
   "cell_type": "code",
   "execution_count": null,
   "metadata": {
    "slideshow": {
     "slide_type": "fragment"
    }
   },
   "outputs": [],
   "source": [
    "py_math = pyimport(\"math\")\n",
    "py_math.sin.([0, π/2, π])"
   ]
  },
  {
   "cell_type": "markdown",
   "metadata": {
    "slideshow": {
     "slide_type": "subslide"
    }
   },
   "source": [
    "Just as we did with C, we can quickly define a Python sum function without leaving Julia:"
   ]
  },
  {
   "cell_type": "code",
   "execution_count": null,
   "metadata": {
    "slideshow": {
     "slide_type": "fragment"
    }
   },
   "outputs": [],
   "source": [
    "# The PyCall package lets us define python functions directly from Julia:\n",
    "\n",
    "py\"\"\"\n",
    "def mysum(a):\n",
    "    s = 0.0\n",
    "    for x in a:\n",
    "        s = s + x\n",
    "    return s\n",
    "\"\"\"\n",
    "\n",
    "# mysum_py is a reference to the Python mysum function\n",
    "py_sum = py\"\"\"mysum\"\"\"o"
   ]
  },
  {
   "cell_type": "markdown",
   "metadata": {
    "slideshow": {
     "slide_type": "fragment"
    }
   },
   "source": [
    "Let's make sure we're getting similar answers everywhere:"
   ]
  },
  {
   "cell_type": "code",
   "execution_count": null,
   "metadata": {},
   "outputs": [],
   "source": [
    "py_sum(data) ≈ c_sum(data) ≈ sum(data) ≈ my_sum(data) ≈ my_fast_sum(data)"
   ]
  },
  {
   "cell_type": "code",
   "execution_count": null,
   "metadata": {
    "slideshow": {
     "slide_type": "subslide"
    }
   },
   "outputs": [],
   "source": [
    "@btime py_sum($data)"
   ]
  },
  {
   "cell_type": "code",
   "execution_count": null,
   "metadata": {},
   "outputs": [],
   "source": [
    "results[\"py_sum (Python)\"] = 1.4e3\n",
    "\n",
    "bar(results; xlabel, ylabel, legend)"
   ]
  },
  {
   "cell_type": "markdown",
   "metadata": {
    "slideshow": {
     "slide_type": "subslide"
    }
   },
   "source": [
    "### What about Numpy or Cython?\n",
    "\n",
    "* Of course, there are faster ways to sum a vector of `double`s in Python than a `for` loop. \n",
    "* `numpy.sum()` is just as fast as Julia's `sum()` for large vectors...\n",
    "* ...but there are some caveats:\n",
    "  * NumPy is only efficient for a pre-determined set of numeric types. \n",
    "  * NumPy cannot be extended without switching into an entirely different programming language, build system, and code environment. \n",
    "  * So, if `numpy.sum()` happens to cover the cases you actually need, then go for it!\n",
    "  * But if you want to be able to write efficient code that does not happen to cover the specific set of functions and types in NumPy, then you need Julia. "
   ]
  },
  {
   "cell_type": "code",
   "execution_count": null,
   "metadata": {
    "slideshow": {
     "slide_type": "subslide"
    }
   },
   "outputs": [],
   "source": [
    "struct Point{T}\n",
    "    x::T\n",
    "    y::T\n",
    "end\n",
    "\n",
    "function Base.zero(::Type{Point{T}}) where {T} \n",
    "    Point{T}(zero(T), zero(T))\n",
    "end\n",
    "    \n",
    "Base.:+(p1::Point, p2::Point) = Point(p1.x + p2.x, p1.y + p2.y)\n",
    "\n",
    "n = 10^7; points = Point.(randn(n), randn(n));"
   ]
  },
  {
   "cell_type": "code",
   "execution_count": null,
   "metadata": {
    "slideshow": {
     "slide_type": "fragment"
    }
   },
   "outputs": [],
   "source": [
    "@btime my_fast_sum($points)"
   ]
  },
  {
   "cell_type": "code",
   "execution_count": null,
   "metadata": {
    "slideshow": {
     "slide_type": "subslide"
    }
   },
   "outputs": [],
   "source": [
    "@code_native debuginfo=:none my_fast_sum(points)"
   ]
  },
  {
   "cell_type": "markdown",
   "metadata": {
    "slideshow": {
     "slide_type": "slide"
    }
   },
   "source": [
    "# Bonus features of Julia"
   ]
  },
  {
   "cell_type": "markdown",
   "metadata": {
    "slideshow": {
     "slide_type": "subslide"
    }
   },
   "source": [
    "## Anything can be a value\n",
    "\n",
    "Julia has no special rules about what can or cannot be assigned to a variable or passed to a function. "
   ]
  },
  {
   "cell_type": "markdown",
   "metadata": {
    "slideshow": {
     "slide_type": "fragment"
    }
   },
   "source": [
    "### Functions are values\n",
    "\n",
    "A Julia function is a value like any other, so passing functions around and implementing higher-order functions is trivial:"
   ]
  },
  {
   "cell_type": "code",
   "execution_count": null,
   "metadata": {
    "slideshow": {
     "slide_type": "fragment"
    }
   },
   "outputs": [],
   "source": [
    "\"\"\"\n",
    "map_reduce: apply `operator` to each element in `array` and reduce pairwise via `reduction`\n",
    "\"\"\"\n",
    "function map_reduce(operator, reduction, array, initial_value)\n",
    "    result = initial_value\n",
    "    for item in array\n",
    "        result = reduction(result, operator(item))\n",
    "    end\n",
    "    result\n",
    "end"
   ]
  },
  {
   "cell_type": "code",
   "execution_count": null,
   "metadata": {
    "slideshow": {
     "slide_type": "fragment"
    }
   },
   "outputs": [],
   "source": [
    "map_reduce(inv, +, [1, 2, 3], 0)"
   ]
  },
  {
   "cell_type": "markdown",
   "metadata": {
    "slideshow": {
     "slide_type": "subslide"
    }
   },
   "source": [
    "We can define `sum` in terms of `map_reduce`:"
   ]
  },
  {
   "cell_type": "code",
   "execution_count": null,
   "metadata": {
    "slideshow": {
     "slide_type": "-"
    }
   },
   "outputs": [],
   "source": [
    "fancy_sum(x) = map_reduce(identity, +, x, zero(eltype(x)))"
   ]
  },
  {
   "cell_type": "markdown",
   "metadata": {
    "slideshow": {
     "slide_type": "fragment"
    }
   },
   "source": [
    "The performance is just as good as our hand-written `sum` loop:"
   ]
  },
  {
   "cell_type": "code",
   "execution_count": null,
   "metadata": {
    "slideshow": {
     "slide_type": "-"
    }
   },
   "outputs": [],
   "source": [
    "@btime fancy_sum($data)"
   ]
  },
  {
   "cell_type": "markdown",
   "metadata": {},
   "source": [
    "To get the same optimized performance, we'd need to apply the same `@simd` annotations.  "
   ]
  },
  {
   "cell_type": "markdown",
   "metadata": {
    "slideshow": {
     "slide_type": "subslide"
    }
   },
   "source": [
    "Functions can be inlined, even into standard library code. The compiler heuristics are often good and you can nudge it using `@inline` if necessary."
   ]
  },
  {
   "cell_type": "code",
   "execution_count": null,
   "metadata": {
    "slideshow": {
     "slide_type": "-"
    }
   },
   "outputs": [],
   "source": [
    "my_identity(x) = x\n",
    "my_plus(x, y) = x + y\n",
    "@btime mapreduce($my_identity, $my_plus, $data)"
   ]
  },
  {
   "cell_type": "code",
   "execution_count": null,
   "metadata": {
    "slideshow": {
     "slide_type": "skip"
    }
   },
   "outputs": [],
   "source": [
    "# to free some memory on mybinder.org\n",
    "data = nothing\n",
    "points = nothing\n",
    "GC.gc()"
   ]
  },
  {
   "cell_type": "markdown",
   "metadata": {
    "slideshow": {
     "slide_type": "subslide"
    }
   },
   "source": [
    "### Types are values\n",
    "\n",
    "Types can also be passed around as values and bound to variables with no special rules. This makes implementing factories or constructors easy:"
   ]
  },
  {
   "cell_type": "code",
   "execution_count": null,
   "metadata": {
    "slideshow": {
     "slide_type": "fragment"
    }
   },
   "outputs": [],
   "source": [
    "function empty_matrix(T::Type, rows::Integer, cols::Integer)\n",
    "    zeros(T, rows, cols)\n",
    "end"
   ]
  },
  {
   "cell_type": "code",
   "execution_count": null,
   "metadata": {
    "slideshow": {
     "slide_type": "fragment"
    }
   },
   "outputs": [],
   "source": [
    "empty_matrix(Int, 3, 3)"
   ]
  },
  {
   "cell_type": "code",
   "execution_count": null,
   "metadata": {
    "slideshow": {
     "slide_type": "fragment"
    }
   },
   "outputs": [],
   "source": [
    "empty_matrix(Point{Float64}, 3, 3)"
   ]
  },
  {
   "cell_type": "markdown",
   "metadata": {
    "slideshow": {
     "slide_type": "subslide"
    }
   },
   "source": [
    "### Expressions are values\n",
    "\n",
    "Even the expressions that representing Julia code are represented as values in Julia. You can create an expression with the `:()` operator, and you can inspect it just like any other object. "
   ]
  },
  {
   "cell_type": "code",
   "execution_count": null,
   "metadata": {
    "slideshow": {
     "slide_type": "-"
    }
   },
   "outputs": [],
   "source": [
    "expr = :(1 + 2)"
   ]
  },
  {
   "cell_type": "markdown",
   "metadata": {
    "slideshow": {
     "slide_type": "fragment"
    }
   },
   "source": [
    "An expression has a `head` indicating what type of expression it is and zero or more `args`:"
   ]
  },
  {
   "cell_type": "code",
   "execution_count": null,
   "metadata": {
    "slideshow": {
     "slide_type": "-"
    }
   },
   "outputs": [],
   "source": [
    "expr.head"
   ]
  },
  {
   "cell_type": "code",
   "execution_count": null,
   "metadata": {
    "slideshow": {
     "slide_type": "-"
    }
   },
   "outputs": [],
   "source": [
    "expr.args"
   ]
  },
  {
   "cell_type": "markdown",
   "metadata": {
    "slideshow": {
     "slide_type": "subslide"
    }
   },
   "source": [
    "## Metaprogramming\n",
    "\n",
    "Since expressions are just values, we can easily write functions to manipulate them:"
   ]
  },
  {
   "cell_type": "code",
   "execution_count": null,
   "metadata": {
    "slideshow": {
     "slide_type": "fragment"
    }
   },
   "outputs": [],
   "source": [
    "switch_to_subtraction!(x::Any) = nothing\n",
    "\n",
    "\"\"\"\n",
    "Change all `+` function calls to `-` function calls. \n",
    "\n",
    "<sarcasm>\n",
    "Great for fixing sign errors in your code!\n",
    "</sarcasm>\n",
    "\"\"\"\n",
    "function switch_to_subtraction!(ex::Expr)\n",
    "    if ex.head == :call && ex.args[1] == :(+)\n",
    "        ex.args[1] = :(-)\n",
    "    end\n",
    "    for i in 2:length(ex.args)\n",
    "        switch_to_subtraction!(ex.args[i])\n",
    "    end\n",
    "end"
   ]
  },
  {
   "cell_type": "code",
   "execution_count": null,
   "metadata": {
    "slideshow": {
     "slide_type": "subslide"
    }
   },
   "outputs": [],
   "source": [
    "expr = :((1 + 2) * (3 + 4) * sqrt(2))"
   ]
  },
  {
   "cell_type": "code",
   "execution_count": null,
   "metadata": {
    "slideshow": {
     "slide_type": "fragment"
    }
   },
   "outputs": [],
   "source": [
    "switch_to_subtraction!(expr)\n",
    "\n",
    "expr"
   ]
  },
  {
   "cell_type": "markdown",
   "metadata": {
    "slideshow": {
     "slide_type": "subslide"
    }
   },
   "source": [
    "### Macros\n",
    "\n",
    "A macro is written just like a normal Julia function. The difference is that a macro operates on the *expression* itself, not on its value:"
   ]
  },
  {
   "cell_type": "markdown",
   "metadata": {
    "slideshow": {
     "slide_type": "fragment"
    }
   },
   "source": [
    "`@show` : print out the *name* of a variable and its value. Great for quick debugging:"
   ]
  },
  {
   "cell_type": "code",
   "execution_count": null,
   "metadata": {},
   "outputs": [],
   "source": [
    "x = 5\n",
    "@show x"
   ]
  },
  {
   "cell_type": "markdown",
   "metadata": {
    "slideshow": {
     "slide_type": "fragment"
    }
   },
   "source": [
    "`@time` measure the elapsed time of an expression and return the result of that expression:"
   ]
  },
  {
   "cell_type": "code",
   "execution_count": null,
   "metadata": {},
   "outputs": [],
   "source": [
    "@time sqrt(big(π))"
   ]
  },
  {
   "cell_type": "markdown",
   "metadata": {
    "slideshow": {
     "slide_type": "skip"
    }
   },
   "source": [
    "We have seen its siblings `@btime` and `@benchmark` above."
   ]
  },
  {
   "cell_type": "markdown",
   "metadata": {
    "slideshow": {
     "slide_type": "subslide"
    }
   },
   "source": [
    "`@showprogress`: Time each iteration of a loop and estimate how much longer it will take to finish:"
   ]
  },
  {
   "cell_type": "code",
   "execution_count": null,
   "metadata": {},
   "outputs": [],
   "source": [
    "using ProgressMeter: @showprogress"
   ]
  },
  {
   "cell_type": "code",
   "execution_count": null,
   "metadata": {},
   "outputs": [],
   "source": [
    "@showprogress for i in 1:100\n",
    "    sum(randn(10^7))\n",
    "end"
   ]
  },
  {
   "cell_type": "markdown",
   "metadata": {
    "slideshow": {
     "slide_type": "slide"
    }
   },
   "source": [
    "# What's hard to do in Julia?\n",
    "\n",
    "- What is the compiler team working on making better?\n",
    "- What are some subtle problems that the Julia team would like to fix?\n",
    "\n",
    "[![What's bad about Julia talk](img/bad_about_julia.png)](https://www.youtube.com/watch?v=TPuJsgyu87U)"
   ]
  },
  {
   "cell_type": "markdown",
   "metadata": {
    "slideshow": {
     "slide_type": "fragment"
    }
   },
   "source": [
    "## Compiler latency\n",
    "\n",
    "- The JIT compiler runs each time it sees a function being called with a new input type\n",
    "- That makes the first call slow, since you have to wait for the JIT\n",
    "  - This makes Julia awkward for things like shell scripts or AWS lambda\n",
    "- The compiler is essentially serial"
   ]
  },
  {
   "cell_type": "markdown",
   "metadata": {
    "slideshow": {
     "slide_type": "subslide"
    }
   },
   "source": [
    "## Static compilation\n",
    "\n",
    "* To avoid the JIT lag, you can compile a Julia package to a standalone executable using [PackageCompiler.jl](https://github.com/JuliaLang/PackageCompiler.jl), but:\n",
    "    * This workflow is pretty new, and you may run into interesting bugs\n",
    "    * The resulting libraries tend to be quite large"
   ]
  },
  {
   "cell_type": "markdown",
   "metadata": {
    "slideshow": {
     "slide_type": "fragment"
    }
   },
   "source": [
    "## Static analysis\n",
    "\n",
    "* There are some linting tools for Julia (like the `vscode-julia` extension for Visual Studio Code), but they are not as mature as languages like Python, C, Java, etc.\n",
    "* Static analysis of Julia is harder, since the language itself is dynamically typed\n",
    "  * To be fair, static analysis of C++ is [undecidable](https://blog.reverberate.org/2013/08/parsing-c-is-literally-undecidable.html) but we still have tools that do a pretty good job most of the time"
   ]
  },
  {
   "cell_type": "markdown",
   "metadata": {
    "slideshow": {
     "slide_type": "subslide"
    }
   },
   "source": [
    "## HPC for simulation science (in contrast to data science)\n",
    "\n",
    "- The ecosystem for traditional HPC frameworks needs to be advanced\n",
    "- Binaries (depending on MPI) must still be configured manually\n",
    "- Some momemtum comes from the [CliMA project at CalTech](https://clima.caltech.edu/)"
   ]
  },
  {
   "cell_type": "markdown",
   "metadata": {
    "slideshow": {
     "slide_type": "fragment"
    }
   },
   "source": [
    "## Embedded computing\n",
    "\n",
    "- It can be hard to run Julia on memory-limited systems, since you need the compiler living alongside your code\n",
    "- Static compilation can help, but this isn't a well-developed workflow yet"
   ]
  },
  {
   "cell_type": "markdown",
   "metadata": {
    "slideshow": {
     "slide_type": "skip"
    }
   },
   "source": [
    "# Useful Julia Tools"
   ]
  },
  {
   "cell_type": "markdown",
   "metadata": {
    "slideshow": {
     "slide_type": "skip"
    }
   },
   "source": [
    "## Julia VSCode\n",
    "\n",
    "https://github.com/julia-vscode/julia-vscode\n",
    "\n",
    "* Code highlighting, snippets, linting, and completions\n",
    "* Integrated plot and table viewers\n",
    "* General extension support via the VSCode language server\n",
    "\n",
    "<div align=\"center\">\n",
    "  <img src=\"https://github.com/julia-vscode/julia-vscode.github.io/raw/243947a5d00b47ff65b9c133da287697f84aeada/img/newscreen5.png\" width=\"70%\"/>\n",
    "</div>"
   ]
  },
  {
   "cell_type": "markdown",
   "metadata": {
    "slideshow": {
     "slide_type": "skip"
    }
   },
   "source": [
    "## [Revise](https://github.com/timholy/Revise.jl)\n",
    "\n",
    "- Reduce overhead while developing\n",
    "- Partial replacement of `make`\n",
    "\n",
    "<div align=\"center\">\n",
    "  <img src=\"https://github.com/timholy/Revise.jl/raw/master/images/revise-wordmark.png\" width=\"60%\">\n",
    "</div>"
   ]
  },
  {
   "cell_type": "markdown",
   "metadata": {
    "slideshow": {
     "slide_type": "skip"
    }
   },
   "source": [
    "## [DifferentialEquations/OrdinaryDiffEq](https://github.com/SciML/DifferentialEquations.jl)\n",
    "\n",
    "* { ordinary | delay | stochastic | * } differential equations\n",
    "* Automatic differentiation and sparsity detection\n",
    "* Sensitivity analysis and parameter estimation\n",
    "* Access to pure-Julia solvers and existing C and Fortran solvers\n",
    "\n",
    "<div align=\"center\">\n",
    "  <img src=\"https://github.com/SciML/DifferentialEquations.jl/raw/master/assets/DifferentialEquations_Example.png\" width=\"50%\"/>\n",
    "</div>\n"
   ]
  },
  {
   "cell_type": "markdown",
   "metadata": {
    "slideshow": {
     "slide_type": "skip"
    }
   },
   "source": [
    "## [Flux](https://github.com/FluxML/Flux.jl)\n",
    "\n",
    "- Flexible library for machine learning built entirely in Julia\n",
    "- Feed-forward and recurrent neural nets\n",
    "- Gradients via automatic differentiation\n",
    "- GPU support via CuArrays.jl\n",
    "\n",
    "```julia\n",
    "m = Chain(\n",
    "  Dense(784, 32, σ),\n",
    "  Dense(32, 10), softmax\n",
    ")\n",
    "\n",
    "loss(x, y) = Flux.mse(m(x), y)\n",
    "ps = Flux.params(m)\n",
    "\n",
    "for i in 1:num_training_iters\n",
    "    Flux.train!(loss, ps, data, opt)\n",
    "end\n",
    "```"
   ]
  },
  {
   "cell_type": "markdown",
   "metadata": {
    "slideshow": {
     "slide_type": "skip"
    }
   },
   "source": [
    "## [DataFrames](https://github.com/JuliaData/DataFrames.jl)\n",
    "\n",
    "- In-memory tabular data\n",
    "- Joining, indexing, grouping, and split-apply-combine\n",
    "\n",
    "```julia\n",
    "julia> using DataFrames\n",
    "\n",
    "julia> df = DataFrame(A = 1:4, B = [\"M\", \"F\", \"F\", \"M\"])\n",
    "4×2 DataFrame\n",
    "│ Row │ A     │ B      │\n",
    "│     │ Int64 │ String │\n",
    "├─────┼───────┼────────┤\n",
    "│ 1   │ 1     │ M      │\n",
    "│ 2   │ 2     │ F      │\n",
    "│ 3   │ 3     │ F      │\n",
    "│ 4   │ 4     │ M      │\n",
    "```"
   ]
  },
  {
   "cell_type": "markdown",
   "metadata": {
    "slideshow": {
     "slide_type": "skip"
    }
   },
   "source": [
    "## [JuMP](https://github.com/jump-dev/JuMP.jl)\n",
    "\n",
    "- Continuous and discrete optimization\n",
    "- Support for a wide variety of free and commercial solvers\n",
    "- Efficient high-level language for mathematical programming\n",
    "\n",
    "<div align=\"center\">\n",
    "  <img src=\"https://raw.githubusercontent.com/jump-dev/JuMP.jl/master/docs/src/assets/jump-logo-with-text.svg\" width=\"60%\"/>\n",
    "</div>\n",
    "\n"
   ]
  },
  {
   "cell_type": "markdown",
   "metadata": {
    "slideshow": {
     "slide_type": "skip"
    }
   },
   "source": [
    "## [Cassette](https://github.com/JuliaLabs/Cassette.jl)\n",
    "\n",
    "https://www.youtube.com/watch?v=_E2zEzNEy-8\n",
    "\n",
    "\"Overdub\" Julia code: \n",
    "\n",
    "- Hook into the compiler to dynamically modify the behavior of existing functions in a given *context*\n",
    "- Building block for debuggers, automatic differentation, mocking/testing frameworks, and more.\n",
    "\n",
    "<div align=\"center\">\n",
    "  <img src=\"https://github.com/JuliaLabs/Cassette.jl/raw/master/docs/img/cassette-logo.png\" width=\"60%\"/>\n",
    "</div>"
   ]
  },
  {
   "cell_type": "markdown",
   "metadata": {
    "slideshow": {
     "slide_type": "skip"
    }
   },
   "source": [
    "## Automatic differentiation\n",
    "\n",
    "- Forward/reverse mode AD and more\n",
    "  - [ForwardDiff](https://github.com/JuliaDiff/ForwardDiff.jl)\n",
    "  - [ReverseDiff](https://github.com/JuliaDiff/ReverseDiff.jl)\n",
    "  - [Zygote](https://github.com/FluxML/Zygote.jl)\n",
    "  - More to come\n",
    "- Common tools in [ChainRules](https://github.com/JuliaDiff/ChainRules.jl)\n",
    "\n",
    "<div align=\"center\">\n",
    "  <img src=\"https://avatars.githubusercontent.com/u/7750915?s=200&v=4\" width=\"20%\">\n",
    "</div>"
   ]
  },
  {
   "cell_type": "markdown",
   "metadata": {
    "slideshow": {
     "slide_type": "skip"
    }
   },
   "source": [
    "## [LoopVectorization](https://github.com/JuliaSIMD/LoopVectorization.jl), [CheapThreads](https://github.com/JuliaSIMD/CheapThreads.jl)\n",
    "\n",
    "- Advanced SIMD programming in Julia\n",
    "- Able to beat MKL with pure Julia code\n",
    "\n",
    "<div align=\"center\">\n",
    "  <img src=\"https://avatars.githubusercontent.com/u/80543003?s=200&v=4\" width=\"20%\">\n",
    "</div>"
   ]
  },
  {
   "cell_type": "markdown",
   "metadata": {
    "slideshow": {
     "slide_type": "skip"
    }
   },
   "source": [
    "## [JuliaGPU](https://juliagpu.org/)\n",
    "\n",
    "- Compile Julia on GPUs\n",
    "- High-level interface used for ML, data science, differential equations, ...\n",
    "\n",
    "<div align=\"center\">\n",
    "  <img src=\"https://github.com/JuliaGPU/juliagpu.org/raw/master/_assets/logo_crop.png\" width=\"20%\">\n",
    "</div>"
   ]
  },
  {
   "cell_type": "markdown",
   "metadata": {
    "slideshow": {
     "slide_type": "slide"
    }
   },
   "source": [
    "# Solving hyperbolic PDEs with Trixi\n",
    "\n",
    "- First code in January 2020\n",
    "- Version `v0.1` on GitHub [in August 2020](https://discourse.julialang.org/t/ann-trixi-jl-a-tree-based-numerical-simulation-framework-for-hyperbolic-pdes/45886)\n",
    "- Version `v0.3` published [in November 2020](https://discourse.julialang.org/t/ann-trixi-jl-v0-3-sciml-integration-and-a-new-modular-approach-for-easy-extension/50419)\n",
    "- [12 active contributors](https://github.com/trixi-framework/Trixi.jl/graphs/contributors)\n",
    "\n",
    "<div align=\"center\">\n",
    "  <img src=\"media/Authors.png\" width=\"80%\">\n",
    "</div>"
   ]
  },
  {
   "cell_type": "markdown",
   "metadata": {
    "slideshow": {
     "slide_type": "subslide"
    }
   },
   "source": [
    "## Quickstart\n",
    "\n",
    "Let's have a look at a simple 2D example."
   ]
  },
  {
   "cell_type": "markdown",
   "metadata": {
    "slideshow": {
     "slide_type": "skip"
    }
   },
   "source": [
    "`trixi_include(...)` is a function that loads a Julia file and executes its contents. We call such files that contain a valid Trixi setup **elixirs**. `default_example()` is part of the Trixi package and returns the path to an example elixir for running a 2D linear advection simulation.\n",
    "\n",
    "**Please note that during the first invocation this may take a minute or two, since Julia has to compile all functions at first usage.**"
   ]
  },
  {
   "cell_type": "code",
   "execution_count": null,
   "metadata": {},
   "outputs": [],
   "source": [
    "using Trixi\n",
    "trixi_include(default_example())"
   ]
  },
  {
   "cell_type": "markdown",
   "metadata": {
    "slideshow": {
     "slide_type": "skip"
    }
   },
   "source": [
    "The results of a Trixi simulation can easily be visualized with the [Plots](https://github.com/JuliaPlots/Plots.jl) package. Simply load `Plots` and call the `plot(...)` command with the argument `sol`. By convention, in all our elixirs `sol` (short for *solution*) is the variable name that contains the result of a simulation."
   ]
  },
  {
   "cell_type": "code",
   "execution_count": null,
   "metadata": {
    "slideshow": {
     "slide_type": "subslide"
    }
   },
   "outputs": [],
   "source": [
    "using Plots\n",
    "plot(sol)"
   ]
  },
  {
   "cell_type": "markdown",
   "metadata": {
    "slideshow": {
     "slide_type": "slide"
    }
   },
   "source": [
    "# Mixing an elixir: Creating a Trixi simulation from scratch"
   ]
  },
  {
   "cell_type": "markdown",
   "metadata": {
    "slideshow": {
     "slide_type": "skip"
    }
   },
   "source": [
    "Let's have a look at what an elixir looks like. Generally speaking, the following components are required:\n",
    "- an **equation** object that contains all physics-specific data and functionality\n",
    "- a **solver** that represents the numerical method and its algorithms\n",
    "- a **mesh** that holds the grid data\n",
    "- a **semidiscretization** that encapsulates equation, solver, and mesh, together with initial and boundary conditions\n",
    "\n",
    "The semidiscretization object is then used to create an `ODEProblem` that can be solved with one of the solvers for ordinary differential equations (ODEs) from the [OrdinaryDiffEq](https://github.com/SciML/OrdinaryDiffEq.jl) package."
   ]
  },
  {
   "cell_type": "markdown",
   "metadata": {
    "slideshow": {
     "slide_type": "-"
    }
   },
   "source": [
    "<div align=\"center\">\n",
    "  <img src=\"https://github.com/trixi-framework/talk-2021-Introduction_to_Julia_and_Trixi/raw/main/media/components.png\" width=\"80%\" />\n",
    "</div>"
   ]
  },
  {
   "cell_type": "markdown",
   "metadata": {
    "slideshow": {
     "slide_type": "subslide"
    }
   },
   "source": [
    "In the following are the contents of a *minimum* elixir that produces the same result as the `trixi_include(...)` command above (the elixir can be found in [examples/elixir_advection_simple.jl](examples/elixir_advection_simple.jl)):"
   ]
  },
  {
   "cell_type": "code",
   "execution_count": null,
   "metadata": {
    "slideshow": {
     "slide_type": "fragment"
    }
   },
   "outputs": [],
   "source": [
    "using OrdinaryDiffEq, Trixi"
   ]
  },
  {
   "cell_type": "code",
   "execution_count": null,
   "metadata": {
    "slideshow": {
     "slide_type": "fragment"
    }
   },
   "outputs": [],
   "source": [
    "advectionvelocity = (1.0, 1.0)\n",
    "equations = LinearScalarAdvectionEquation2D(advectionvelocity)"
   ]
  },
  {
   "cell_type": "code",
   "execution_count": null,
   "metadata": {
    "slideshow": {
     "slide_type": "subslide"
    }
   },
   "outputs": [],
   "source": [
    "solver = DGSEM(polydeg=3, surface_flux=flux_lax_friedrichs)"
   ]
  },
  {
   "cell_type": "code",
   "execution_count": null,
   "metadata": {
    "slideshow": {
     "slide_type": "fragment"
    }
   },
   "outputs": [],
   "source": [
    "# Create a uniformely refined mesh with periodic boundaries\n",
    "coordinates_min = (-1.0, -1.0) # minimum coordinates\n",
    "coordinates_max = ( 1.0,  1.0) # maximum coordinates\n",
    "mesh_static = TreeMesh(coordinates_min, coordinates_max,\n",
    "                       initial_refinement_level=4, n_cells_max=10^5)"
   ]
  },
  {
   "cell_type": "code",
   "execution_count": null,
   "metadata": {
    "slideshow": {
     "slide_type": "subslide"
    }
   },
   "outputs": [],
   "source": [
    "# Create semidiscretization with all spatial discretization-related components\n",
    "semi = SemidiscretizationHyperbolic(mesh_static, equations,\n",
    "                                    initial_condition_convergence_test,\n",
    "                                    solver)\n",
    "\n",
    "# Create ODE problem from semidiscretization with time span from 0.0 to 1.0\n",
    "ode = semidiscretize(semi, (0.0, 1.0));\n",
    "\n",
    "# Evolve ODE problem in time using OrdinaryDiffEq's `solve` method\n",
    "@time sol = solve(ode, BS3(), save_everystep=false);"
   ]
  },
  {
   "cell_type": "markdown",
   "metadata": {
    "slideshow": {
     "slide_type": "skip"
    }
   },
   "source": [
    "And that's it. In this minimum example, there is no output to the terminal/notebook, thus only the lack of errors tells us that everything went smoothly. However, as before, we can visualize the solution by plotting it with the `plot` function of the `Plots` package:"
   ]
  },
  {
   "cell_type": "code",
   "execution_count": null,
   "metadata": {
    "slideshow": {
     "slide_type": "fragment"
    }
   },
   "outputs": [],
   "source": [
    "using Plots\n",
    "plot(sol)"
   ]
  },
  {
   "cell_type": "markdown",
   "metadata": {
    "slideshow": {
     "slide_type": "skip"
    }
   },
   "source": [
    "As you can see from the snippet above, the entirety of a simulation setup is defined in pure Julia: There are no \"special\" parameter files, and changing a simulation setup means to modify its elixir. For example, we can change the advection speeds by passing a different velocity vector to `LinearScalarAdvectionEquation2D`,\n",
    "\n",
    "```julia\n",
    "# Create equations with different advection velocity\n",
    "advectionvelocity = (1.0, 0.1)\n",
    "equations = LinearScalarAdvectionEquation2D(advectionvelocity);\n",
    "```\n",
    "\n",
    "and re-run the simulation by re-creating the semidiscretization and the `ODEProblem`, and then calling the `solve(...)` function again."
   ]
  },
  {
   "cell_type": "markdown",
   "metadata": {
    "slideshow": {
     "slide_type": "slide"
    }
   },
   "source": [
    "## Using a different initial condition"
   ]
  },
  {
   "cell_type": "markdown",
   "metadata": {
    "slideshow": {
     "slide_type": "skip"
    }
   },
   "source": [
    "So far we have only used functionality that is provided by Trixi. With its modular architecture, however, it is easy to extend Trixi with your own features. Let's define a new initial condition with a cosine-shaped pulse at its center:"
   ]
  },
  {
   "cell_type": "code",
   "execution_count": null,
   "metadata": {},
   "outputs": [],
   "source": [
    "using LinearAlgebra # for `norm`\n",
    "\n",
    "function cosine_pulse(x, t, equations::LinearScalarAdvectionEquation2D)\n",
    "  halfwidth = 0.5\n",
    "  radius = norm(x)\n",
    "\n",
    "  if radius > halfwidth\n",
    "    u = 0.0\n",
    "  else\n",
    "    u = 0.1 + 0.1 * cospi(radius / halfwidth)\n",
    "  end\n",
    "\n",
    "  return SVector(u)\n",
    "end"
   ]
  },
  {
   "cell_type": "markdown",
   "metadata": {
    "slideshow": {
     "slide_type": "skip"
    }
   },
   "source": [
    "Now we can use this function for the initial condition parameter in the semidiscretization, re-run the simulation, and plot the results:"
   ]
  },
  {
   "cell_type": "code",
   "execution_count": null,
   "metadata": {
    "slideshow": {
     "slide_type": "subslide"
    }
   },
   "outputs": [],
   "source": [
    "# Recreate semidiscretization with the new initial condition\n",
    "semi = SemidiscretizationHyperbolic(mesh_static, equations,\n",
    "                                    cosine_pulse, # <-- here is the new initialization function\n",
    "                                    solver)\n",
    "# Create and solve ODE problem\n",
    "ode = semidiscretize(semi, (0.0, 1.7));\n",
    "sol = solve(ode, BS3(), saveat=range(ode.tspan..., length=6));\n",
    "\n",
    "using Printf\n",
    "plot(map(i -> plot(sol.u[i], semi, title=@sprintf(\"\\$ t = %.2f \\$\", sol.t[i])), \n",
    "        eachindex(sol.t))..., size=(1200, 550))"
   ]
  },
  {
   "cell_type": "markdown",
   "metadata": {
    "slideshow": {
     "slide_type": "slide"
    }
   },
   "source": [
    "## Adaptive mesh refinement"
   ]
  },
  {
   "cell_type": "markdown",
   "metadata": {
    "slideshow": {
     "slide_type": "skip"
    }
   },
   "source": [
    "In the previous examples, we have always used a static, uniform mesh. This means we did not fully exploit one of Trixi's fundamental building blocks: the underlying hierarchical Cartesian mesh. With its ability to locally refine the mesh in a solution-adaptive way, it can be used to greatly speed up simulations with no or minimal loss in overall accuracy. The following image series of the grid for an expanding blast wave simulation ([elixir](https://github.com/trixi-framework/Trixi.jl/blob/v0.3.7/examples/2d/elixir_euler_blast_wave_amr.jl) available with Trixi) at $t = [0.2, 0.6, 1.0]$ (left to right) illustrates how the mesh resolution is increased only where needed."
   ]
  },
  {
   "cell_type": "markdown",
   "metadata": {},
   "source": [
    "<div align=\"center\">\n",
    "  <img src=\"https://github.com/trixi-framework/talk-2021-Introduction_to_Julia_and_Trixi/raw/main/media/callbacks_AMR.png\" width=\"80%\" />\n",
    "</div>"
   ]
  },
  {
   "cell_type": "markdown",
   "metadata": {
    "slideshow": {
     "slide_type": "skip"
    }
   },
   "source": [
    "With Trixi, you can statically refine the mesh upfront, adaptively refine it during a simulation, or use a combination of both. Here, we will focus on how to do adaptive mesh refinement (AMR), which is implemented in Trixi as a **step callback**. A callback is an algorithmic entity that is registered with the ODE solver and then *called* in regular intervals to perform certain tasks: *step* callbacks are run after each time step, while *stage* callbacks are run after each stage of the ODE solver."
   ]
  },
  {
   "cell_type": "markdown",
   "metadata": {
    "slideshow": {
     "slide_type": "skip"
    }
   },
   "source": [
    "Using callbacks instead of hard-coding all features in the main loop has the advantage that it allows to extend Trixi with new functionality without having to modify its code directly. Beyond AMR, in Trixi we make use of callbacks also for tasks such as solution analysis, file I/O, in-situ visualization, or time step size calculation.\n",
    "\n",
    "Building upon the previous example, we will now introduce the `AMRCallback` to adaptively refine the mesh around the cosine pulse every 5 steps. The callback also requires the definition of an *AMR controller*, i.e., an object that tells the AMR algorithms which cells to refine/coarsen:"
   ]
  },
  {
   "cell_type": "code",
   "execution_count": null,
   "metadata": {
    "slideshow": {
     "slide_type": "subslide"
    }
   },
   "outputs": [],
   "source": [
    "# Use a simple AMR controller that to refine cells between level 4 and level 6,\n",
    "# based on the maximum value of the solution in an element\n",
    "amr_controller = ControllerThreeLevel(semi,\n",
    "                                      IndicatorMax(semi, variable=first),\n",
    "                                      base_level=4,\n",
    "                                      med_level=5, med_threshold=0.05,\n",
    "                                      max_level=6, max_threshold=0.15);\n",
    "\n",
    "# Create the AMR callback that will be called every 5 time steps\n",
    "amr_callback = AMRCallback(semi, amr_controller, interval=5)"
   ]
  },
  {
   "cell_type": "markdown",
   "metadata": {
    "slideshow": {
     "slide_type": "skip"
    }
   },
   "source": [
    "The `AMRCallback` can now be passed to the ODE solver and will be invoked (i.e., performs adaptive mesh refinement) every 5 time steps. Note that we also create a new mesh with a lower initial refinement, since by default the `AMRCallback` will iteratively refine the initial mesh based on the AMR controller until it does not change anymore."
   ]
  },
  {
   "cell_type": "code",
   "execution_count": null,
   "metadata": {
    "slideshow": {
     "slide_type": "subslide"
    }
   },
   "outputs": [],
   "source": [
    "# Create new mesh and semidiscretization with lower initial refinement level\n",
    "mesh_amr = TreeMesh(coordinates_min, coordinates_max,\n",
    "                    initial_refinement_level=2,\n",
    "                    n_cells_max=30_000)\n",
    "semi = SemidiscretizationHyperbolic(mesh_amr, equations,\n",
    "                                    cosine_pulse,\n",
    "                                    solver)\n",
    "\n",
    "# Create and solve ODE problem, using the previously constructed AMR callback\n",
    "ode = semidiscretize(semi, (0.0, 1.7));\n",
    "sol = solve(ode, BS3(), save_everystep=false, callback=amr_callback);\n",
    "\n",
    "# Plot result\n",
    "pd = PlotData2D(sol)\n",
    "plot(pd, seriescolor=:heat)\n",
    "plot!(getmesh(pd))"
   ]
  },
  {
   "cell_type": "markdown",
   "metadata": {
    "slideshow": {
     "slide_type": "skip"
    }
   },
   "source": [
    "Here we also changed the color scheme and added the mesh lines to the plot to demonstrate how the mesh is locally refined around the cosine pulse. To find out more about how to visualize solutions with the `Plots` package, please refer to the [Trixi documentation](https://trixi-framework.github.io/Trixi.jl/stable/visualization/#Plots.jl)."
   ]
  },
  {
   "cell_type": "markdown",
   "metadata": {
    "slideshow": {
     "slide_type": "slide"
    }
   },
   "source": [
    "# Advanced usage"
   ]
  },
  {
   "cell_type": "markdown",
   "metadata": {
    "slideshow": {
     "slide_type": "skip"
    }
   },
   "source": [
    "In the following, we will introduce some of the more advanced features in Trixi (advanced in the sense that they go beyond basic functionality, not that they are particularly complicated to use)."
   ]
  },
  {
   "cell_type": "markdown",
   "metadata": {},
   "source": [
    "## Analyzing the solution"
   ]
  },
  {
   "cell_type": "markdown",
   "metadata": {
    "slideshow": {
     "slide_type": "skip"
    }
   },
   "source": [
    "Oftentimes it is desireable to analyze a running simulation quantitatively by calculating integral quantities on the fly, which can be achieved by creating an `AnalysisCallback`. By default, it computes the $L^2$ and $L^\\infty$ errors and prints it to the terminal (we have seen an example of this in the [introduction]((#Solving-hyperbolic-PDEs-with-Trixi)) section above). This can be extended to other built-in or user-provided integral quantities, such as the entropy time derivative $\\partial S/\\partial u \\cdot \\partial u/\\partial t$, the conservation error, or the total kinetic energy.\n",
    "\n",
    "In the following, we will create and `AnalysisCallback` that performs a solution analysis every 20 time steps, additionally computes the conservation error, and saves everything to a file (in addition to showing it on the terminal):"
   ]
  },
  {
   "cell_type": "code",
   "execution_count": null,
   "metadata": {
    "slideshow": {
     "slide_type": "fragment"
    }
   },
   "outputs": [],
   "source": [
    "analysis_callback = AnalysisCallback(semi, interval=20,\n",
    "                                     extra_analysis_errors=(:conservation_error,));"
   ]
  },
  {
   "cell_type": "markdown",
   "metadata": {
    "slideshow": {
     "slide_type": "skip"
    }
   },
   "source": [
    "Since the $L^2$ and $L^\\infty$ errors are computed with respect to the (time-resolved) initial condition function, we will again use the  fully periodic`initial_condition_convergence_test` to initialize the solution. We will also use a static mesh again."
   ]
  },
  {
   "cell_type": "code",
   "execution_count": null,
   "metadata": {
    "slideshow": {
     "slide_type": "fragment"
    }
   },
   "outputs": [],
   "source": [
    "# Create semidiscretization with a fully periodic initial condition\n",
    "semi = SemidiscretizationHyperbolic(mesh_static, equations, initial_condition_convergence_test, solver)\n",
    "\n",
    "# Create and solve ODE problem\n",
    "ode = semidiscretize(semi, (0.0, 1.0));\n",
    "sol = solve(ode, BS3(), save_everystep=false, callback=analysis_callback);"
   ]
  },
  {
   "cell_type": "markdown",
   "metadata": {
    "slideshow": {
     "slide_type": "subslide"
    }
   },
   "source": [
    "## Running convergence tests"
   ]
  },
  {
   "cell_type": "markdown",
   "metadata": {
    "slideshow": {
     "slide_type": "skip"
    }
   },
   "source": [
    "When developing new numerical methods, a common part of the workflow is the check if the implemented scheme still exhibits the expected order of convergence (EOC) for mesh refinement. Trixi has a helper function `convergence_test(...)`, which re-runs a given elixir multiple times, each time increasing the mesh resolution by one. For this, we will again use the default example elixir provided by Trixi.\n",
    "\n",
    "*Note:* Since changing the mesh resolution also affects the allowed time step through the CFL condition, `convergence_test(...)` requires the elixir to use a [StepsizeCallback](https://trixi-framework.github.io/Trixi.jl/stable/reference-trixi/#Trixi.StepsizeCallback) to automatically compute the explicit time step."
   ]
  },
  {
   "cell_type": "code",
   "execution_count": null,
   "metadata": {},
   "outputs": [],
   "source": [
    "# Run convergence test with default example and 3 different mesh refinement levels\n",
    "convergence_test(default_example(), 3);"
   ]
  },
  {
   "cell_type": "markdown",
   "metadata": {
    "slideshow": {
     "slide_type": "subslide"
    }
   },
   "source": [
    "## Visualizing the spectrum"
   ]
  },
  {
   "cell_type": "markdown",
   "metadata": {
    "slideshow": {
     "slide_type": "skip"
    }
   },
   "source": [
    "Trixi contains a method `linear_structure` that wraps the right-hand side operator of a semidiscretization as a linear operator. This can then be used to plot the spectrum for, e.g., the discretization of the scalar advection equation:"
   ]
  },
  {
   "cell_type": "code",
   "execution_count": null,
   "metadata": {},
   "outputs": [],
   "source": [
    "# Include an elixir to quickly obtain an appropriate semi discretization\n",
    "trixi_include(joinpath(\"examples\", \"elixir_advection_simple.jl\"), initial_refinement_level=2)\n",
    "\n",
    "# Get linear operator\n",
    "A, b = linear_structure(semi)\n",
    "\n",
    "# Compute eigenvalues\n",
    "using LinearAlgebra\n",
    "λ = eigvals(Matrix(A))\n",
    "\n",
    "# Plot eigenvalues in complex plane\n",
    "plot(real(λ), imag(λ), seriestype=:scatter, legend=nothing)"
   ]
  },
  {
   "cell_type": "markdown",
   "metadata": {
    "slideshow": {
     "slide_type": "skip"
    }
   },
   "source": [
    "Similarly, to analyse the spectrum of non-linear operators we can use `jacobian_ad_forward`, which uses sforward mode automatic differentiation to compute the Jacobian `J` of the operator. Here we use the elixir [examples/elixir_euler_simple.jl](examples/elixir_euler_simple.jl), which is a simplified version of an elixir for the compressible Euler equations that also comes packaged with Trixi:"
   ]
  },
  {
   "cell_type": "code",
   "execution_count": null,
   "metadata": {
    "slideshow": {
     "slide_type": "subslide"
    }
   },
   "outputs": [],
   "source": [
    "# Include an elixir to quickly obtain an appropriate semidiscretization\n",
    "trixi_include(joinpath(\"examples\", \"elixir_euler_simple.jl\"))\n",
    "\n",
    "# Determine Jacobian\n",
    "J = jacobian_ad_forward(semi)\n",
    "\n",
    "# Compute eigenvalues\n",
    "λ = eigvals(J)\n",
    "\n",
    "# Plot eigenvalues in complex plane\n",
    "plot(real(λ), imag(λ), seriestype=:scatter, legend=nothing)"
   ]
  },
  {
   "cell_type": "markdown",
   "metadata": {
    "slideshow": {
     "slide_type": "subslide"
    }
   },
   "source": [
    "## Differentiating through a complete simulation\n",
    "\n",
    "More details can be found in the [documentation of Trixi](https://trixi-framework.github.io/Trixi.jl)."
   ]
  },
  {
   "cell_type": "code",
   "execution_count": null,
   "metadata": {},
   "outputs": [],
   "source": [
    "using ForwardDiff\n",
    "\n",
    "function energy_at_final_time(k) # k is the wave number of the initial condition\n",
    "   equations = LinearScalarAdvectionEquation2D(1.0, -0.3)\n",
    "   mesh = TreeMesh((-1.0, -1.0), (1.0, 1.0), initial_refinement_level=3, n_cells_max=10^4)\n",
    "   solver = DGSEM(3, flux_lax_friedrichs)\n",
    "   initial_condition = (x, t, equation) -> begin\n",
    "       x_trans = Trixi.x_trans_periodic_2d(x - equation.advectionvelocity * t)\n",
    "       return SVector(sinpi(k * sum(x_trans)))\n",
    "   end\n",
    "   semi = SemidiscretizationHyperbolic(mesh, equations, initial_condition, solver,\n",
    "                                       uEltype=typeof(k))\n",
    "   ode = semidiscretize(semi, (0.0, 1.0))\n",
    "   sol = solve(ode, BS3(), save_everystep=false)\n",
    "   Trixi.integrate(energy_total, sol.u[end], semi)\n",
    "end\n",
    "\n",
    "k_values = range(0.9, 1.1, length=101)"
   ]
  },
  {
   "cell_type": "code",
   "execution_count": null,
   "metadata": {
    "slideshow": {
     "slide_type": "subslide"
    }
   },
   "outputs": [],
   "source": [
    "energy_values = energy_at_final_time.(k_values)\n",
    "plot(k_values, energy_values .- maximum(energy_values), \n",
    "     xguide=L\"k\", label=\"Relative energy\")"
   ]
  },
  {
   "cell_type": "markdown",
   "metadata": {
    "slideshow": {
     "slide_type": "skip"
    }
   },
   "source": [
    "You should see a plot of a curve that resembles a parabola with local maximum around `k = 1.0`. Why's that? Well, the domain is fixed but the wave number changes. Thus, if the wave number is not chosen as an integer, the initial condition will not be a smooth periodic function in the given domain. Hence, the dissipative surface flux (`flux_lax_friedrichs` in this example) will introduce more dissipation. In particular, it will introduce more dissipation for \"less smooth\" initial data, corresponding to wave numbers `k` further away from integers."
   ]
  },
  {
   "cell_type": "markdown",
   "metadata": {
    "slideshow": {
     "slide_type": "subslide"
    }
   },
   "source": [
    "We can compute the discrete derivative of the energy at the final time with respect to the wave number `k` as follows."
   ]
  },
  {
   "cell_type": "code",
   "execution_count": null,
   "metadata": {
    "slideshow": {
     "slide_type": "fragment"
    }
   },
   "outputs": [],
   "source": [
    "ForwardDiff.derivative(energy_at_final_time, 1.0)"
   ]
  },
  {
   "cell_type": "code",
   "execution_count": null,
   "metadata": {
    "slideshow": {
     "slide_type": "fragment"
    }
   },
   "outputs": [],
   "source": [
    "dk_values = ForwardDiff.derivative.((energy_at_final_time,), k_values);\n",
    "plot!(k_values, dk_values, label=\"Derivative\")"
   ]
  },
  {
   "cell_type": "markdown",
   "metadata": {
    "slideshow": {
     "slide_type": "subslide"
    }
   },
   "source": [
    "### Postprocessing with Trixi2Vtk and ParaView"
   ]
  },
  {
   "cell_type": "markdown",
   "metadata": {
    "slideshow": {
     "slide_type": "skip"
    }
   },
   "source": [
    "So far we have only visualized the solutions ad-hoc using the `plots(...)` function of the `Plots` package. However, for a more in-depth solution analysis especially of 3D data, it is often helpful to rely on a proper visualization program. Trixi supports converting its solution files, which are created as HDF5 files by the [SaveSolutionCallback](https://trixi-framework.github.io/Trixi.jl/stable/reference-trixi/#Trixi.SaveSolutionCallback)), to VTK files that can be opened and visualized with [ParaView](https://www.paraview.org) or [VisIt](http://visit.llnl.gov). This functionality is available in the [Trixi2Vtk](https://github.com/trixi-framework/Trixi2Vtk.jl) package, which provides a `trixi2vtk(...)` function:"
   ]
  },
  {
   "cell_type": "code",
   "execution_count": null,
   "metadata": {},
   "outputs": [],
   "source": [
    "using Trixi2Vtk\n",
    "trixi2vtk(joinpath(\"out\", \"solution_000000.h5\"), output_directory=\"out\")"
   ]
  },
  {
   "cell_type": "markdown",
   "metadata": {
    "slideshow": {
     "slide_type": "skip"
    }
   },
   "source": [
    "This will create two files in the `out` directory, `solution_000000.vtu` and `solution_000000_celldata.vtu`. More information about how to use `trixi2vtk(...)` can be found in the [Trixi documentation](https://trixi-framework.github.io/Trixi.jl/stable/visualization/#Trixi2Vtk)."
   ]
  },
  {
   "cell_type": "markdown",
   "metadata": {
    "slideshow": {
     "slide_type": "subslide"
    }
   },
   "source": [
    "## Demo: Self-gravitating Sedov blast wave\n",
    "\n",
    "Find details in [our paper](https://arxiv.org/abs/2008.10593)\n",
    "and at the [reproducibility repository](https://github.com/trixi-framework/paper-self-gravitating-gas-dynamics).\n",
    "\n",
    "<br/>\n",
    "\n",
    "<div align=\"center\">\n",
    "  <img height=\"60%\" src=\"https://github.com/trixi-framework/paper-self-gravitating-gas-dynamics/raw/master/assets/sedov-rho-phi-mesh.gif\"\n",
    "        alt=\"Simulation of self-gravitating Sedov blast wave with adaptive mesh refinement.\"/>\n",
    "</div>"
   ]
  },
  {
   "cell_type": "markdown",
   "metadata": {
    "slideshow": {
     "slide_type": "subslide"
    }
   },
   "source": [
    "## Demo: MHD blast wave"
   ]
  },
  {
   "cell_type": "code",
   "execution_count": null,
   "metadata": {
    "slideshow": {
     "slide_type": "-"
    }
   },
   "outputs": [],
   "source": [
    "display_mp4(\"media/mhd_blast_wave.mp4\")"
   ]
  },
  {
   "cell_type": "markdown",
   "metadata": {
    "slideshow": {
     "slide_type": "subslide"
    }
   },
   "source": [
    "## Demo: Kelvin-Helmholtz instability"
   ]
  },
  {
   "cell_type": "code",
   "execution_count": null,
   "metadata": {
    "slideshow": {
     "slide_type": "-"
    }
   },
   "outputs": [],
   "source": [
    "display_mp4(\"media/kelvin_helmholtz_instability.mp4\")"
   ]
  }
 ],
 "metadata": {
  "kernelspec": {
   "display_name": "Julia 1.6.0",
   "language": "julia",
   "name": "julia-1.6"
  },
  "language_info": {
   "file_extension": ".jl",
   "mimetype": "application/julia",
   "name": "julia",
   "version": "1.6.0"
  }
 },
 "nbformat": 4,
 "nbformat_minor": 4
}
